{
 "cells": [
  {
   "cell_type": "code",
   "execution_count": 13,
   "id": "bea4441b",
   "metadata": {},
   "outputs": [],
   "source": [
    "# Load and plot an ELR prediction netCDF file\n",
    "\n",
    "import numpy as np\n",
    "import matplotlib.pyplot as plt\n",
    "import cartopy.feature as cfeature\n",
    "import cartopy.crs as ccrs\n",
    "import netCDF4 as nc"
   ]
  },
  {
   "cell_type": "code",
   "execution_count": 72,
   "id": "d762eb0e",
   "metadata": {},
   "outputs": [],
   "source": [
    "# Load a netCDF file\n",
    "\n",
    "data_dir = \"/Users/cooperf/Documents/WFP/Operational/SEWAA-forecasts/interface/ensemble_logistic_regression/ELR_predictions\"\n",
    "\n",
    "#file_name = f\"{data_dir}/Kenya/county/GAN_Kiambu_20240423_logreg.nc\"\n",
    "#file_name = f\"{data_dir}/Kenya/county/GAN_Nairobi_20240423_logreg.nc\"\n",
    "#file_name = f\"{data_dir}/Kenya/subcounty/GAN_Kajiado-East_20240423_logreg.nc\"\n",
    "#file_name = f\"{data_dir}/Ethiopia/county/GAN_Konso_20240423_logreg.nc\"\n",
    "file_name = f\"{data_dir}/Ethiopia/subcounty/GAN_Moyale_20240423_logreg.nc\"\n",
    "\n",
    "nc_file = nc.Dataset(file_name, \"r\")\n",
    "latitude = np.array(nc_file[\"latitude\"][:])\n",
    "longitude = np.array(nc_file[\"longitude\"][:])\n",
    "time = np.array(nc_file[\"time\"][:])\n",
    "valid_time = np.array(nc_file[\"fcst_valid_time\"][:])\n",
    "threshold = np.array(nc_file[\"threshold\"][:])\n",
    "probability_exceedance = np.array(nc_file[\"probability_exceedance\"][:])\n",
    "nc_file.close()"
   ]
  },
  {
   "cell_type": "code",
   "execution_count": 73,
   "id": "61a23f48",
   "metadata": {},
   "outputs": [
    {
     "data": {
      "text/plain": [
       "array([0, 1, 2, 3, 4])"
      ]
     },
     "execution_count": 73,
     "metadata": {},
     "output_type": "execute_result"
    }
   ],
   "source": [
    "valid_time"
   ]
  },
  {
   "cell_type": "code",
   "execution_count": 80,
   "id": "bc016b3a",
   "metadata": {},
   "outputs": [
    {
     "data": {
      "text/plain": [
       "array([25, 30, 35, 40])"
      ]
     },
     "execution_count": 80,
     "metadata": {},
     "output_type": "execute_result"
    }
   ],
   "source": [
    "threshold"
   ]
  },
  {
   "cell_type": "code",
   "execution_count": 74,
   "id": "515ccba8",
   "metadata": {},
   "outputs": [
    {
     "data": {
      "text/plain": [
       "array([[0.18091496, 0.20394218, 0.20383822, 0.20174812,        nan,\n",
       "               nan,        nan,        nan],\n",
       "       [0.17868069, 0.1953292 , 0.21709859, 0.20683424,        nan,\n",
       "               nan,        nan,        nan],\n",
       "       [0.18938565, 0.21526673, 0.20131901, 0.21311483,        nan,\n",
       "               nan,        nan,        nan],\n",
       "       [0.22214583, 0.24150937, 0.20778263, 0.21469433, 0.20201187,\n",
       "               nan,        nan,        nan],\n",
       "       [0.18863532, 0.2150905 , 0.22820758, 0.23211158, 0.22626743,\n",
       "        0.20774767,        nan,        nan],\n",
       "       [       nan, 0.2214008 , 0.22622343, 0.23167319, 0.22600302,\n",
       "        0.24344138, 0.24724246, 0.24106209],\n",
       "       [       nan,        nan,        nan,        nan, 0.22652511,\n",
       "        0.25230721, 0.24770079, 0.24012441],\n",
       "       [       nan,        nan,        nan,        nan,        nan,\n",
       "        0.22922812,        nan,        nan]])"
      ]
     },
     "execution_count": 74,
     "metadata": {},
     "output_type": "execute_result"
    }
   ],
   "source": [
    "probability_exceedance[0,0,0,:,:]"
   ]
  },
  {
   "cell_type": "code",
   "execution_count": 75,
   "id": "82e5d72c",
   "metadata": {},
   "outputs": [],
   "source": [
    "lead_time = 0\n",
    "temp = np.zeros(probability_exceedance[0,lead_time,0,:,:].shape)\n",
    "temp[probability_exceedance[0,lead_time,0,:,:]*100<5] = 0\n",
    "temp[probability_exceedance[0,lead_time,0,:,:]*100>=5] += 1\n",
    "temp[probability_exceedance[0,lead_time,0,:,:]*100>=15] += 1\n",
    "temp[probability_exceedance[0,lead_time,0,:,:]*100>=25] += 1\n",
    "temp[probability_exceedance[0,lead_time,0,:,:]*100>=50] += 1"
   ]
  },
  {
   "cell_type": "code",
   "execution_count": 76,
   "id": "051556b3",
   "metadata": {},
   "outputs": [
    {
     "data": {
      "text/plain": [
       "array([[2., 2., 2., 2., 0., 0., 0., 0.],\n",
       "       [2., 2., 2., 2., 0., 0., 0., 0.],\n",
       "       [2., 2., 2., 2., 0., 0., 0., 0.],\n",
       "       [2., 2., 2., 2., 2., 0., 0., 0.],\n",
       "       [2., 2., 2., 2., 2., 2., 0., 0.],\n",
       "       [0., 2., 2., 2., 2., 2., 2., 2.],\n",
       "       [0., 0., 0., 0., 2., 3., 2., 2.],\n",
       "       [0., 0., 0., 0., 0., 2., 0., 0.]])"
      ]
     },
     "execution_count": 76,
     "metadata": {},
     "output_type": "execute_result"
    }
   ],
   "source": [
    "temp"
   ]
  },
  {
   "cell_type": "code",
   "execution_count": 77,
   "id": "ee5cebb8",
   "metadata": {},
   "outputs": [
    {
     "data": {
      "text/plain": [
       "array([39.04999924, 39.15000153, 39.25      , 39.34999847, 39.45000076,\n",
       "       39.54999924, 39.65000153, 39.75      ])"
      ]
     },
     "execution_count": 77,
     "metadata": {},
     "output_type": "execute_result"
    }
   ],
   "source": [
    "longitude"
   ]
  },
  {
   "cell_type": "code",
   "execution_count": 78,
   "id": "cc7d7cc6",
   "metadata": {},
   "outputs": [
    {
     "data": {
      "text/plain": [
       "array([3.54999995, 3.6500001 , 3.75      , 3.8499999 , 3.95000005,\n",
       "       4.05000019, 4.1500001 , 4.25      ])"
      ]
     },
     "execution_count": 78,
     "metadata": {},
     "output_type": "execute_result"
    }
   ],
   "source": [
    "latitude"
   ]
  },
  {
   "cell_type": "code",
   "execution_count": 79,
   "id": "21ba28a8",
   "metadata": {},
   "outputs": [
    {
     "data": {
      "image/png": "[encoded data removed]",
      "text/plain": [
       "<Figure size 640x480 with 2 Axes>"
      ]
     },
     "metadata": {},
     "output_type": "display_data"
    }
   ],
   "source": [
    "plt.pcolormesh(longitude, latitude, temp)\n",
    "plt.ylabel('latitude')\n",
    "plt.xlabel('longitude')\n",
    "plt.colorbar()\n",
    "plt.show()"
   ]
  },
  {
   "cell_type": "code",
   "execution_count": 47,
   "id": "f8ef3c83",
   "metadata": {},
   "outputs": [
    {
     "data": {
      "image/png": "[encoded data removed]",
      "text/plain": [
       "<Figure size 640x480 with 2 Axes>"
      ]
     },
     "metadata": {},
     "output_type": "display_data"
    }
   ],
   "source": [
    "fig = plt.figure()\n",
    "ax = plt.axes(projection=ccrs.PlateCarree())\n",
    "ax.add_feature(cfeature.COASTLINE, linewidth=1)\n",
    "ax.add_feature(cfeature.BORDERS, linewidth=1)\n",
    "c = plt.pcolormesh(longitude, latitude, temp, transform=ccrs.PlateCarree())\n",
    "cb = plt.colorbar(c, fraction=0.02)\n",
    "cb.ax.tick_params(labelsize=18)\n",
    "cb.set_label('Pa',size=18)\n",
    "plt.title(f\"Surface pressure\")\n",
    "plt.show()"
   ]
  },
  {
   "cell_type": "code",
   "execution_count": null,
   "id": "2ba29173",
   "metadata": {},
   "outputs": [],
   "source": [
    "# Plus the nan mask"
   ]
  }
 ],
 "metadata": {
  "kernelspec": {
   "display_name": "AOPP2",
   "language": "python",
   "name": "python3"
  },
  "language_info": {
   "codemirror_mode": {
    "name": "ipython",
    "version": 3
   },
   "file_extension": ".py",
   "mimetype": "text/x-python",
   "name": "python",
   "nbconvert_exporter": "python",
   "pygments_lexer": "ipython3",
   "version": "3.13.3"
  }
 },
 "nbformat": 4,
 "nbformat_minor": 5
}
